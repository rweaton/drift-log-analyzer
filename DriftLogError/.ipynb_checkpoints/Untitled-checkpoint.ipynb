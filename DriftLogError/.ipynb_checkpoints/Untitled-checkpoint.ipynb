{
 "cells": [
  {
   "cell_type": "code",
   "execution_count": 2,
   "metadata": {},
   "outputs": [
    {
     "ename": "SyntaxError",
     "evalue": "invalid syntax (<ipython-input-2-176d91bae3a0>, line 1)",
     "output_type": "error",
     "traceback": [
      "\u001b[0;36m  File \u001b[0;32m\"<ipython-input-2-176d91bae3a0>\"\u001b[0;36m, line \u001b[0;32m1\u001b[0m\n\u001b[0;31m    import nonparametric-stats\u001b[0m\n\u001b[0m                        ^\u001b[0m\n\u001b[0;31mSyntaxError\u001b[0m\u001b[0;31m:\u001b[0m invalid syntax\n"
     ]
    }
   ],
   "source": [
    "import nonparametric_stats as nps\n",
    "import numpy as np\n",
    "import matplotlib.pyplot as plt\n",
    "\n",
    "def spiral_gen(radius, pitch, z):\n",
    "    \n",
    "    x = radius*np.cos(pitch*z)\n",
    "    y = radius*np.sin(pitch*z)\n",
    "    \n",
    "    return (x, y, z)\n",
    "\n",
    "def cyl2dh_xform(x, y, z):\n",
    "    \n",
    "    delta_x = np.diff(x)\n",
    "    delta_y = np.diff(y)\n",
    "    delta_z = np.diff(z)\n",
    "    delta_l = np.sqrt(delta_x**2 + delta_y**2 + delta_z**2)\n",
    "    \n",
    "    az = np.arctan2(delta_y, delta_x)\n",
    "    inc = np.arcsin(np.divide(delta_z, delta_l))\n",
    "    l =  np.cumsum(delta_l)\n",
    "    \n",
    "    return (l, az, inc)\n",
    "\n",
    "R = 2.\n",
    "a = 2*np.pi*.01\n",
    "z = np.linspace(0., 200., num=801, endpoint=True)\n",
    "\n",
    "rx, ry, rz = spiral_gen(R, a, z)\n",
    "plt.plot(rx, ry, rz)\n",
    "l, az, inc = cyl2dh_xform(rx, ry, rz)"
   ]
  },
  {
   "cell_type": "code",
   "execution_count": null,
   "metadata": {},
   "outputs": [],
   "source": []
  }
 ],
 "metadata": {
  "kernelspec": {
   "display_name": "Python 3",
   "language": "python",
   "name": "python3"
  },
  "language_info": {
   "codemirror_mode": {
    "name": "ipython",
    "version": 3
   },
   "file_extension": ".py",
   "mimetype": "text/x-python",
   "name": "python",
   "nbconvert_exporter": "python",
   "pygments_lexer": "ipython3",
   "version": "3.7.3"
  }
 },
 "nbformat": 4,
 "nbformat_minor": 4
}
